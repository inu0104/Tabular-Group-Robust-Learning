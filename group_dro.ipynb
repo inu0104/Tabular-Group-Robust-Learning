{
 "cells": [
  {
   "cell_type": "code",
   "execution_count": 1,
   "id": "795a22e2",
   "metadata": {},
   "outputs": [],
   "source": [
    "import os\n",
    "import json\n",
    "import torch\n",
    "import numpy as np\n",
    "from copy import deepcopy\n",
    "from sklearn.metrics import roc_auc_score\n",
    "\n",
    "from method.group_dro import run_group_dro\n",
    "from method.group_test import run_group_test\n",
    "from method.group_dro_focal import run_group_dro_focal\n",
    "from models import node, tabnet, tabtrans\n",
    "\n",
    "import numpy as np\n",
    "import torch\n",
    "import json\n",
    "from utils.data_loader import load_data\n",
    "\n",
    "from sklearn.metrics import (\n",
    "    f1_score, recall_score, precision_score,\n",
    "    roc_auc_score, brier_score_loss\n",
    ")\n",
    "\n",
    "MODEL_CLASSES = {\n",
    "    'node': node.NODE,\n",
    "    'tabnet': tabnet.TabNet,\n",
    "    #'tabtrans' : tabtrans.TabTransformer\n",
    "}\n",
    "\n",
    "METHODS = {\n",
    "    'group-dro' : run_group_dro,\n",
    "    'group-test' : run_group_test,\n",
    "    'group-dro-focal' : run_group_dro_focal\n",
    "}\n",
    "\n",
    "device = torch.device(\"cuda\" if torch.cuda.is_available() else \"cpu\")"
   ]
  },
  {
   "cell_type": "code",
   "execution_count": 2,
   "id": "f114dd16",
   "metadata": {},
   "outputs": [],
   "source": [
    "def load_default_config(model_type, dataset, default_dir=\"experiments\"):\n",
    "    path = os.path.join(default_dir, f\"{model_type}_{dataset}.json\")\n",
    "    with open(path, \"r\") as f:\n",
    "        return json.load(f), path\n",
    "\n",
    "def save_as_default(config, path):\n",
    "    with open(path, \"w\") as f:\n",
    "        json.dump(config, f, indent=2)\n",
    "\n",
    "def collect_predictions(model, dataloader, device):\n",
    "    model.eval()\n",
    "    all_preds = []\n",
    "    all_labels = []\n",
    "    all_groups = []\n",
    "\n",
    "    with torch.no_grad():\n",
    "        for batch in dataloader:\n",
    "            if model.__class__.__name__.lower() != \"tabtransformer\":\n",
    "                x, y, g, *_ = batch\n",
    "                x = x.to(device)\n",
    "                outputs = model(x).squeeze()\n",
    "            else:\n",
    "                x_cat, x_num, y, g, *_ = batch\n",
    "                x_cat = x_cat.to(device)\n",
    "                x_num = x_num.to(device)\n",
    "                outputs = model((x_cat, x_num)).squeeze()\n",
    "\n",
    "            preds = torch.sigmoid(outputs).cpu().numpy()\n",
    "\n",
    "            if preds.ndim == 0:\n",
    "                all_preds.extend([preds])\n",
    "            else:\n",
    "                all_preds.extend(preds)\n",
    "\n",
    "            all_labels.extend(y.numpy())\n",
    "            all_groups.extend(g.numpy())\n",
    "\n",
    "    return np.array(all_labels), np.array(all_preds), np.array(all_groups)\n",
    "\n",
    "def generate_group_dro_optuna_runner(grid, model_type, dataset, load_data, MODEL_CLASSES, METHODS,\n",
    "                                     default_dir=\"experiments\", n_trials=30):\n",
    "    import optuna\n",
    "\n",
    "    config, default_path = load_default_config(model_type, dataset)\n",
    "    device = torch.device(\"cuda\" if torch.cuda.is_available() else \"cpu\")\n",
    "    model_class = MODEL_CLASSES[model_type]\n",
    "\n",
    "    def to_optuna_space(grid):\n",
    "        space = {}\n",
    "        for k, v in grid.items():\n",
    "            if isinstance(v, list):\n",
    "                space[k] = {\"type\": \"categorical\", \"values\": v}\n",
    "            elif isinstance(v, dict) and \"low\" in v and \"high\" in v:\n",
    "                space[k] = v\n",
    "        return space\n",
    "\n",
    "    param_space = to_optuna_space(grid)\n",
    "\n",
    "    def optuna_objective(trial):\n",
    "        trial_config = deepcopy(config)\n",
    "        trial_config[\"method\"] = 'group-dro'\n",
    "\n",
    "        for param_name, param_def in param_space.items():\n",
    "            if param_def[\"type\"] == \"categorical\":\n",
    "                suggested = trial.suggest_categorical(param_name, param_def[\"values\"])\n",
    "            elif param_def[\"type\"] == \"int\":\n",
    "                suggested = trial.suggest_int(param_name, param_def[\"low\"], param_def[\"high\"])\n",
    "            elif param_def[\"type\"] == \"float\":\n",
    "                suggested = trial.suggest_float(param_name, param_def[\"low\"], param_def[\"high\"],\n",
    "                                                 log=param_def.get(\"log\", False))\n",
    "            else:\n",
    "                raise ValueError(f\"Unknown param type: {param_def['type']}\")\n",
    "\n",
    "            if param_name in trial_config[\"model_params\"]:\n",
    "                trial_config[\"model_params\"][param_name] = suggested\n",
    "            elif param_name in trial_config[\"train_params\"]:\n",
    "                trial_config[\"train_params\"][param_name] = suggested\n",
    "\n",
    "        if \"group_dro_eta\" in param_space:\n",
    "            trial_config[\"train_params\"][\"group_dro_eta\"] = trial.suggest_float(\n",
    "                \"group_dro_eta\", param_space[\"group_dro_eta\"][\"low\"], param_space[\"group_dro_eta\"][\"high\"], log=True\n",
    "            )\n",
    "        if \"group_dro_penalty_anneal_iters\" in param_space:\n",
    "            trial_config[\"train_params\"][\"group_dro_penalty_anneal_iters\"] = trial.suggest_categorical(\n",
    "                \"group_dro_penalty_anneal_iters\", param_space[\"group_dro_penalty_anneal_iters\"][\"values\"]\n",
    "            )\n",
    "\n",
    "        train_loader, valid_loader, test_loader, train_df = load_data(trial_config)\n",
    "        model = model_class(**trial_config[\"model_params\"]).to(device)\n",
    "        method_fn = METHODS[trial_config[\"method\"]]\n",
    "        try:\n",
    "            model = method_fn(model, train_loader, valid_loader, test_loader, train_df,\n",
    "                               trial_config[\"train_params\"], device, dataset, trial_config[\"method\"])\n",
    "        except ValueError as e:\n",
    "            print(f\"Optuna Trial failed during method execution with ValueError: {e}\")\n",
    "            raise\n",
    "        except TypeError as e:\n",
    "            print(f\"Optuna Trial failed during method execution with TypeError: {e}\")\n",
    "            raise\n",
    "\n",
    "        y_true, y_prob, group_ids = collect_predictions(model, valid_loader, device)\n",
    "\n",
    "        try:\n",
    "            overall_auc = roc_auc_score(y_true, y_prob)\n",
    "        except ValueError:\n",
    "            overall_auc = 0.0\n",
    "\n",
    "        group_aucs = []\n",
    "        for g in np.unique(group_ids):\n",
    "            mask = group_ids == g\n",
    "            if np.sum(mask) > 1:\n",
    "                try:\n",
    "                    group_auc = roc_auc_score(y_true[mask], y_prob[mask])\n",
    "                    group_aucs.append(group_auc)\n",
    "                except ValueError:\n",
    "                    pass\n",
    "        worst_group_auc = min(group_aucs) if group_aucs else 0.0\n",
    "\n",
    "        trial.set_user_attr(\"config\", deepcopy(trial_config))\n",
    "        trial.set_user_attr(\"overall_auc\", overall_auc)\n",
    "        trial.set_user_attr(\"worst_group_auc\", worst_group_auc)\n",
    "\n",
    "        return worst_group_auc\n",
    "\n",
    "    study = optuna.create_study(direction=\"maximize\")\n",
    "    study.optimize(optuna_objective, n_trials=n_trials)\n",
    "\n",
    "    best_trial = study.best_trial\n",
    "    best_config = best_trial.user_attrs[\"config\"]\n",
    "    save_as_default(best_config, default_path.replace(\".json\", \"_optuna_best_groupdro.json\"))\n",
    "\n",
    "    train_loader, valid_loader, test_loader, train_df = load_data(best_config)\n",
    "    model_class = MODEL_CLASSES[best_config[\"model_type\"]]\n",
    "    best_model = model_class(**best_config[\"model_params\"]).to(device)\n",
    "    method_fn = METHODS[best_config[\"method\"]]\n",
    "    best_group_dro_model = method_fn(best_model, train_loader, valid_loader, test_loader, train_df,\n",
    "                                      best_config[\"train_params\"], device, dataset, best_config[\"method\"])\n",
    "\n",
    "    return best_group_dro_model, best_config, test_loader, valid_loader\n",
    "\n",
    "def get_probs_and_labels_from_loader(model, loader, device):\n",
    "    model.eval()\n",
    "    probs, labels = [], []\n",
    "\n",
    "    is_tabtrans = model.__class__.__name__.lower() == \"tabtransformer\"\n",
    "\n",
    "    with torch.no_grad():\n",
    "        for batch in loader:\n",
    "            if is_tabtrans:\n",
    "                x_cat, x_num, y, *_ = batch\n",
    "                x_cat = x_cat.to(device)\n",
    "                x_num = x_num.to(device)\n",
    "                x = (x_cat, x_num)\n",
    "            else:\n",
    "                x, y, *_ = batch\n",
    "                x = x.to(device)\n",
    "\n",
    "            output = model(x)\n",
    "            \n",
    "            prob = torch.sigmoid(output).flatten().cpu().numpy()\n",
    "            \n",
    "            if prob.ndim == 0:\n",
    "                probs.extend([prob])\n",
    "            else:\n",
    "                probs.extend(prob)\n",
    "\n",
    "            if y.ndim == 0:\n",
    "                labels.extend([y.numpy()])\n",
    "            else:\n",
    "                labels.extend(y.numpy())\n",
    "\n",
    "    return np.array(probs), np.array(labels)\n",
    "\n",
    "def evaluate_group_metrics(model, test_loader, device, threshold):\n",
    "    model.eval()\n",
    "    model.to(device)\n",
    "\n",
    "    all_logits = []\n",
    "    all_preds = []\n",
    "    all_labels = []\n",
    "    all_groups = []\n",
    "\n",
    "    is_tabtrans = model.__class__.__name__.lower() == \"tabtransformer\"\n",
    "\n",
    "    with torch.no_grad():\n",
    "        for batch in test_loader:\n",
    "            if is_tabtrans:\n",
    "                x_cat, x_num, y, g, *_ = batch\n",
    "                x_cat = x_cat.to(device)\n",
    "                x_num = x_num.to(device)\n",
    "                x = (x_cat, x_num)\n",
    "            else:\n",
    "                x, y, g, *_ = batch\n",
    "                x = x.to(device)\n",
    "\n",
    "            outputs = model(x)  # raw logits\n",
    "            probs = torch.sigmoid(outputs).flatten().cpu().numpy()\n",
    "            preds = (probs > threshold).astype(int)\n",
    "\n",
    "            all_logits.append(probs)\n",
    "            all_preds.append(preds)\n",
    "            all_labels.append(y.numpy())\n",
    "            all_groups.append(g.numpy())\n",
    "\n",
    "    y_prob = np.concatenate(all_logits)\n",
    "    y_pred = np.concatenate(all_preds)\n",
    "    y_true = np.concatenate(all_labels)\n",
    "    group_ids = np.concatenate(all_groups)\n",
    "    total = len(y_true)\n",
    "\n",
    "    # 전체 metric\n",
    "    auc = roc_auc_score(y_true, y_prob)\n",
    "    f1 = f1_score(y_true, y_pred)\n",
    "    recall = recall_score(y_true, y_pred)\n",
    "    precision = precision_score(y_true, y_pred)\n",
    "    brier = brier_score_loss(y_true, y_prob)\n",
    "\n",
    "    print(f\"전체 AUC:     {auc:.4f}\")\n",
    "    print(f\"전체 F1-score: {f1:.4f}\")\n",
    "    print(f\"전체 Recall:   {recall:.4f}\")\n",
    "    print(f\"전체 Precision: {precision:.4f}\")\n",
    "    print(f\"전체 Brier Score: {brier:.4f}\")\n",
    "\n",
    "    # 그룹별 요약\n",
    "    print(\"\\n그룹별 성능 요약:\")\n",
    "    print(f\"{'Group':>6} | {'Ratio (%)':>9} | {'AUC':>6} | {'F1':>6} | {'Recall':>7} | {'Precision':>9}\")\n",
    "    print(\"-\" * 60)\n",
    "\n",
    "    for g in np.unique(group_ids):\n",
    "        idx = group_ids == g\n",
    "        group_size = np.sum(idx)\n",
    "        ratio = group_size / total * 100\n",
    "\n",
    "        y_true_g = y_true[idx]\n",
    "        y_pred_g = y_pred[idx]\n",
    "        y_prob_g = y_prob[idx]\n",
    "\n",
    "        f1_g = f1_score(y_true_g, y_pred_g, zero_division=0)\n",
    "        recall_g = recall_score(y_true_g, y_pred_g, zero_division=0)\n",
    "        precision_g = precision_score(y_true_g, y_pred_g, zero_division=0)\n",
    "\n",
    "        try:\n",
    "            auc_g = roc_auc_score(y_true_g, y_prob_g)\n",
    "        except ValueError:\n",
    "            auc_g = float('nan')\n",
    "\n",
    "        print(f\"{g:>6} | {ratio:9.2f} | {auc_g:6.4f} | {f1_g:6.4f} | {recall_g:7.4f} | {precision_g:9.4f}\")\n",
    "\n",
    "def find_best_threshold_for_f1(y_prob, y_true, num_thresholds=100):\n",
    "    thresholds = np.linspace(0.0, 1.0, num_thresholds)\n",
    "    best_f1 = 0.0\n",
    "    best_threshold = 0.5\n",
    "\n",
    "    for t in thresholds:\n",
    "        y_pred = (y_prob > t).astype(int)\n",
    "        f1 = f1_score(y_true, y_pred)\n",
    "        if f1 > best_f1:\n",
    "            best_f1 = f1\n",
    "            best_threshold = t\n",
    "\n",
    "    return best_threshold, best_f1"
   ]
  },
  {
   "cell_type": "code",
   "execution_count": 3,
   "id": "6e750e4b",
   "metadata": {},
   "outputs": [
    {
     "name": "stderr",
     "output_type": "stream",
     "text": [
      "/opt/conda/lib/python3.12/site-packages/tqdm/auto.py:21: TqdmWarning: IProgress not found. Please update jupyter and ipywidgets. See https://ipywidgets.readthedocs.io/en/stable/user_install.html\n",
      "  from .autonotebook import tqdm as notebook_tqdm\n",
      "[I 2025-04-22 14:25:08,751] A new study created in memory with name: no-name-0cc3cce5-7064-4c5e-9b52-7135e112d521\n"
     ]
    },
    {
     "name": "stdout",
     "output_type": "stream",
     "text": [
      "🔥 Running GroupDRO Method on cuda...\n"
     ]
    },
    {
     "name": "stderr",
     "output_type": "stream",
     "text": [
      "[I 2025-04-22 14:26:54,776] Trial 0 finished with value: 0.7830621384239932 and parameters: {'lr': 0.00363048327209097, 'dropout': 0.42635204429514345, 'group_dro_eta': 0.00019032654986251679}. Best is trial 0 with value: 0.7830621384239932.\n"
     ]
    },
    {
     "name": "stdout",
     "output_type": "stream",
     "text": [
      "🔥 Running GroupDRO Method on cuda...\n"
     ]
    },
    {
     "name": "stderr",
     "output_type": "stream",
     "text": [
      "[I 2025-04-22 14:29:43,327] Trial 1 finished with value: 0.5 and parameters: {'lr': 0.0373219113847179, 'dropout': 0.021200862751463, 'group_dro_eta': 0.1149818371939144}. Best is trial 0 with value: 0.7830621384239932.\n"
     ]
    },
    {
     "name": "stdout",
     "output_type": "stream",
     "text": [
      "🔥 Running GroupDRO Method on cuda...\n"
     ]
    },
    {
     "name": "stderr",
     "output_type": "stream",
     "text": [
      "[I 2025-04-22 14:31:09,821] Trial 2 finished with value: 0.2857142857142857 and parameters: {'lr': 0.0001254245994897084, 'dropout': 0.4610369360772868, 'group_dro_eta': 0.1987061148501657}. Best is trial 0 with value: 0.7830621384239932.\n"
     ]
    },
    {
     "name": "stdout",
     "output_type": "stream",
     "text": [
      "🔥 Running GroupDRO Method on cuda...\n"
     ]
    },
    {
     "name": "stderr",
     "output_type": "stream",
     "text": [
      "[I 2025-04-22 14:32:27,939] Trial 3 finished with value: 0.6428571428571428 and parameters: {'lr': 0.0210610355077517, 'dropout': 0.044001671816956155, 'group_dro_eta': 0.4872536372475021}. Best is trial 0 with value: 0.7830621384239932.\n"
     ]
    },
    {
     "name": "stdout",
     "output_type": "stream",
     "text": [
      "🔥 Running GroupDRO Method on cuda...\n"
     ]
    },
    {
     "name": "stderr",
     "output_type": "stream",
     "text": [
      "[I 2025-04-22 14:36:57,033] Trial 4 finished with value: 0.7370266219045377 and parameters: {'lr': 0.04518624707022114, 'dropout': 0.11668326957249328, 'group_dro_eta': 0.010848660163043401}. Best is trial 0 with value: 0.7830621384239932.\n"
     ]
    },
    {
     "name": "stdout",
     "output_type": "stream",
     "text": [
      "🔥 Running GroupDRO Method on cuda...\n"
     ]
    },
    {
     "name": "stderr",
     "output_type": "stream",
     "text": [
      "[I 2025-04-22 14:41:16,005] Trial 5 finished with value: 0.7142857142857143 and parameters: {'lr': 0.00010908190102012649, 'dropout': 0.02042095114339546, 'group_dro_eta': 0.00023826484688161518}. Best is trial 0 with value: 0.7830621384239932.\n"
     ]
    },
    {
     "name": "stdout",
     "output_type": "stream",
     "text": [
      "🔥 Running GroupDRO Method on cuda...\n"
     ]
    },
    {
     "name": "stderr",
     "output_type": "stream",
     "text": [
      "[I 2025-04-22 14:45:51,571] Trial 6 finished with value: 0.6428571428571428 and parameters: {'lr': 0.001200718217099228, 'dropout': 0.34590173990903567, 'group_dro_eta': 0.011227282428432366}. Best is trial 0 with value: 0.7830621384239932.\n"
     ]
    },
    {
     "name": "stdout",
     "output_type": "stream",
     "text": [
      "🔥 Running GroupDRO Method on cuda...\n"
     ]
    },
    {
     "name": "stderr",
     "output_type": "stream",
     "text": [
      "[I 2025-04-22 14:50:15,434] Trial 7 finished with value: 0.7142857142857143 and parameters: {'lr': 0.007117129618974743, 'dropout': 0.14741652734485197, 'group_dro_eta': 0.0013739815980138878}. Best is trial 0 with value: 0.7830621384239932.\n"
     ]
    },
    {
     "name": "stdout",
     "output_type": "stream",
     "text": [
      "🔥 Running GroupDRO Method on cuda...\n"
     ]
    },
    {
     "name": "stderr",
     "output_type": "stream",
     "text": [
      "[I 2025-04-22 14:54:36,784] Trial 8 finished with value: 0.6071428571428571 and parameters: {'lr': 0.0014053973070777767, 'dropout': 0.2556794491575757, 'group_dro_eta': 0.017554551465424742}. Best is trial 0 with value: 0.7830621384239932.\n"
     ]
    },
    {
     "name": "stdout",
     "output_type": "stream",
     "text": [
      "🔥 Running GroupDRO Method on cuda...\n"
     ]
    },
    {
     "name": "stderr",
     "output_type": "stream",
     "text": [
      "[I 2025-04-22 14:58:36,612] Trial 9 finished with value: 0.6753594597161487 and parameters: {'lr': 0.00022215517339813868, 'dropout': 0.44752574094080305, 'group_dro_eta': 0.09363511626451078}. Best is trial 0 with value: 0.7830621384239932.\n"
     ]
    },
    {
     "name": "stdout",
     "output_type": "stream",
     "text": [
      "🔥 Running GroupDRO Method on cuda...\n"
     ]
    },
    {
     "name": "stderr",
     "output_type": "stream",
     "text": [
      "[I 2025-04-22 15:00:38,081] Trial 10 finished with value: 0.6071428571428571 and parameters: {'lr': 0.006062622504606382, 'dropout': 0.5205007745170556, 'group_dro_eta': 0.00012125508376021296}. Best is trial 0 with value: 0.7830621384239932.\n"
     ]
    },
    {
     "name": "stdout",
     "output_type": "stream",
     "text": [
      "🔥 Running GroupDRO Method on cuda...\n"
     ]
    },
    {
     "name": "stderr",
     "output_type": "stream",
     "text": [
      "[I 2025-04-22 15:05:01,243] Trial 11 finished with value: 0.7570493126700775 and parameters: {'lr': 0.006795092014043461, 'dropout': 0.2999711378770694, 'group_dro_eta': 0.001287795037427757}. Best is trial 0 with value: 0.7830621384239932.\n"
     ]
    },
    {
     "name": "stdout",
     "output_type": "stream",
     "text": [
      "🔥 Running GroupDRO Method on cuda...\n"
     ]
    },
    {
     "name": "stderr",
     "output_type": "stream",
     "text": [
      "[I 2025-04-22 15:09:21,647] Trial 12 finished with value: 0.7636748510337823 and parameters: {'lr': 0.004881403905396468, 'dropout': 0.31045855748084955, 'group_dro_eta': 0.0009674360502590974}. Best is trial 0 with value: 0.7830621384239932.\n"
     ]
    },
    {
     "name": "stdout",
     "output_type": "stream",
     "text": [
      "🔥 Running GroupDRO Method on cuda...\n"
     ]
    },
    {
     "name": "stderr",
     "output_type": "stream",
     "text": [
      "[I 2025-04-22 15:13:51,422] Trial 13 finished with value: 0.7142857142857143 and parameters: {'lr': 0.0005803472860022211, 'dropout': 0.5991881358690674, 'group_dro_eta': 0.0007318065766224868}. Best is trial 0 with value: 0.7830621384239932.\n"
     ]
    },
    {
     "name": "stdout",
     "output_type": "stream",
     "text": [
      "🔥 Running GroupDRO Method on cuda...\n"
     ]
    },
    {
     "name": "stderr",
     "output_type": "stream",
     "text": [
      "[I 2025-04-22 15:15:24,658] Trial 14 finished with value: 0.7769981913457131 and parameters: {'lr': 0.0027038588899904454, 'dropout': 0.3606418709563876, 'group_dro_eta': 0.00037828076198840753}. Best is trial 0 with value: 0.7830621384239932.\n"
     ]
    },
    {
     "name": "stdout",
     "output_type": "stream",
     "text": [
      "🔥 Running GroupDRO Method on cuda...\n"
     ]
    },
    {
     "name": "stderr",
     "output_type": "stream",
     "text": [
      "[I 2025-04-22 15:18:57,867] Trial 15 finished with value: 0.7764655054940971 and parameters: {'lr': 0.00231138828113122, 'dropout': 0.4080341760436468, 'group_dro_eta': 0.00033023243626006265}. Best is trial 0 with value: 0.7830621384239932.\n"
     ]
    },
    {
     "name": "stdout",
     "output_type": "stream",
     "text": [
      "🔥 Running GroupDRO Method on cuda...\n"
     ]
    },
    {
     "name": "stderr",
     "output_type": "stream",
     "text": [
      "[I 2025-04-22 15:23:40,751] Trial 16 finished with value: 0.7722907349825948 and parameters: {'lr': 0.00044591696555484645, 'dropout': 0.22089700713600569, 'group_dro_eta': 0.003343851977321504}. Best is trial 0 with value: 0.7830621384239932.\n"
     ]
    },
    {
     "name": "stdout",
     "output_type": "stream",
     "text": [
      "🔥 Running GroupDRO Method on cuda...\n"
     ]
    },
    {
     "name": "stderr",
     "output_type": "stream",
     "text": [
      "[I 2025-04-22 15:28:20,424] Trial 17 finished with value: 0.7537158967497904 and parameters: {'lr': 0.014107297402309411, 'dropout': 0.37223320222882433, 'group_dro_eta': 0.0031753931605277576}. Best is trial 0 with value: 0.7830621384239932.\n"
     ]
    },
    {
     "name": "stdout",
     "output_type": "stream",
     "text": [
      "🔥 Running GroupDRO Method on cuda...\n"
     ]
    },
    {
     "name": "stderr",
     "output_type": "stream",
     "text": [
      "[I 2025-04-22 15:31:27,307] Trial 18 finished with value: 0.6785714285714286 and parameters: {'lr': 0.003164633324967266, 'dropout': 0.518756857781949, 'group_dro_eta': 0.00012692268858151347}. Best is trial 0 with value: 0.7830621384239932.\n"
     ]
    },
    {
     "name": "stdout",
     "output_type": "stream",
     "text": [
      "🔥 Running GroupDRO Method on cuda...\n"
     ]
    },
    {
     "name": "stderr",
     "output_type": "stream",
     "text": [
      "[I 2025-04-22 15:35:48,467] Trial 19 finished with value: 0.7757562900288641 and parameters: {'lr': 0.000711406462588406, 'dropout': 0.2167397178407552, 'group_dro_eta': 0.0004033586094124925}. Best is trial 0 with value: 0.7830621384239932.\n"
     ]
    },
    {
     "name": "stdout",
     "output_type": "stream",
     "text": [
      "🔥 Running GroupDRO Method on cuda...\n"
     ]
    },
    {
     "name": "stderr",
     "output_type": "stream",
     "text": [
      "[I 2025-04-22 15:40:14,494] Trial 20 finished with value: 0.7400338193575562 and parameters: {'lr': 0.014278459874688341, 'dropout': 0.5304006463569587, 'group_dro_eta': 0.003122002969610416}. Best is trial 0 with value: 0.7830621384239932.\n"
     ]
    },
    {
     "name": "stdout",
     "output_type": "stream",
     "text": [
      "🔥 Running GroupDRO Method on cuda...\n"
     ]
    },
    {
     "name": "stderr",
     "output_type": "stream",
     "text": [
      "[I 2025-04-22 15:42:15,582] Trial 21 finished with value: 0.7801416572724006 and parameters: {'lr': 0.002787104700107687, 'dropout': 0.4120113401792082, 'group_dro_eta': 0.0003406700856670507}. Best is trial 0 with value: 0.7830621384239932.\n"
     ]
    },
    {
     "name": "stdout",
     "output_type": "stream",
     "text": [
      "🔥 Running GroupDRO Method on cuda...\n"
     ]
    },
    {
     "name": "stderr",
     "output_type": "stream",
     "text": [
      "[I 2025-04-22 15:45:41,618] Trial 22 finished with value: 0.7793581135488028 and parameters: {'lr': 0.003538769203671434, 'dropout': 0.4059572418543266, 'group_dro_eta': 0.0002074461044108077}. Best is trial 0 with value: 0.7830621384239932.\n"
     ]
    },
    {
     "name": "stdout",
     "output_type": "stream",
     "text": [
      "🔥 Running GroupDRO Method on cuda...\n"
     ]
    },
    {
     "name": "stderr",
     "output_type": "stream",
     "text": [
      "[I 2025-04-22 15:49:09,022] Trial 23 finished with value: 0.7142857142857143 and parameters: {'lr': 0.0010138419574605016, 'dropout': 0.427987658206581, 'group_dro_eta': 0.00010748087490017327}. Best is trial 0 with value: 0.7830621384239932.\n"
     ]
    },
    {
     "name": "stdout",
     "output_type": "stream",
     "text": [
      "🔥 Running GroupDRO Method on cuda...\n"
     ]
    },
    {
     "name": "stderr",
     "output_type": "stream",
     "text": [
      "[I 2025-04-22 15:51:46,388] Trial 24 finished with value: 0.7777342475709113 and parameters: {'lr': 0.0035463952555400964, 'dropout': 0.4756036538125066, 'group_dro_eta': 0.0002018417656563695}. Best is trial 0 with value: 0.7830621384239932.\n"
     ]
    },
    {
     "name": "stdout",
     "output_type": "stream",
     "text": [
      "🔥 Running GroupDRO Method on cuda...\n"
     ]
    },
    {
     "name": "stderr",
     "output_type": "stream",
     "text": [
      "[I 2025-04-22 15:56:20,251] Trial 25 finished with value: 0.6071428571428571 and parameters: {'lr': 0.010583603010386907, 'dropout': 0.40058442250803944, 'group_dro_eta': 0.02958661770713602}. Best is trial 0 with value: 0.7830621384239932.\n"
     ]
    },
    {
     "name": "stdout",
     "output_type": "stream",
     "text": [
      "🔥 Running GroupDRO Method on cuda...\n"
     ]
    },
    {
     "name": "stderr",
     "output_type": "stream",
     "text": [
      "[I 2025-04-22 16:00:50,646] Trial 26 finished with value: 0.7188549112396714 and parameters: {'lr': 5.165422115387553e-05, 'dropout': 0.3189124003890628, 'group_dro_eta': 0.0006117899774497256}. Best is trial 0 with value: 0.7830621384239932.\n"
     ]
    },
    {
     "name": "stdout",
     "output_type": "stream",
     "text": [
      "🔥 Running GroupDRO Method on cuda...\n"
     ]
    },
    {
     "name": "stderr",
     "output_type": "stream",
     "text": [
      "[I 2025-04-22 16:05:31,447] Trial 27 finished with value: 0.7142857142857143 and parameters: {'lr': 0.0021897799853148625, 'dropout': 0.5951810978622337, 'group_dro_eta': 0.001580173531080025}. Best is trial 0 with value: 0.7830621384239932.\n"
     ]
    },
    {
     "name": "stdout",
     "output_type": "stream",
     "text": [
      "🔥 Running GroupDRO Method on cuda...\n"
     ]
    },
    {
     "name": "stderr",
     "output_type": "stream",
     "text": [
      "[I 2025-04-22 16:08:54,182] Trial 28 finished with value: 0.7142857142857143 and parameters: {'lr': 0.0017604321369968092, 'dropout': 0.48939242785119663, 'group_dro_eta': 0.00023028291491838007}. Best is trial 0 with value: 0.7830621384239932.\n"
     ]
    },
    {
     "name": "stdout",
     "output_type": "stream",
     "text": [
      "🔥 Running GroupDRO Method on cuda...\n"
     ]
    },
    {
     "name": "stderr",
     "output_type": "stream",
     "text": [
      "[I 2025-04-22 16:11:34,665] Trial 29 finished with value: 0.774679562619493 and parameters: {'lr': 0.025935565282940477, 'dropout': 0.39302880297713816, 'group_dro_eta': 0.0005763493064156883}. Best is trial 0 with value: 0.7830621384239932.\n"
     ]
    },
    {
     "name": "stdout",
     "output_type": "stream",
     "text": [
      "🔥 Running GroupDRO Method on cuda...\n",
      "\n",
      "[Optuna Best Group-DRO 모델 설정]\n",
      "{'dataset': 'compas', 'model_type': 'node', 'method': 'group-dro', 'model_params': {'input_dim': 34, 'hidden_dim': 64, 'num_trees': 7, 'depth': 2, 'num_classes': 1}, 'train_params': {'epochs': 30, 'lr': 0.00363048327209097, 'group_dro_eta': 0.00019032654986251679}}\n",
      "\n",
      "[Optuna Best Group-DRO 모델] 성능 요약\n",
      "threshold 균형점 : 0.3636\n",
      "[BEST OVERALL F1 MODEL]\n",
      "전체 AUC:     0.7875\n",
      "전체 F1-score: 0.7111\n",
      "전체 Recall:   0.7917\n",
      "전체 Precision: 0.6455\n",
      "전체 Brier Score: 0.1851\n",
      "\n",
      "그룹별 성능 요약:\n",
      " Group | Ratio (%) |    AUC |     F1 |  Recall | Precision\n",
      "------------------------------------------------------------\n",
      "     0 |     53.53 | 0.7708 | 0.7429 |  0.8493 |    0.6602\n",
      "     1 |      0.44 | 0.9750 | 0.7143 |  0.6250 |    0.8333\n",
      "     2 |     33.23 | 0.7814 | 0.6708 |  0.7066 |    0.6385\n",
      "     3 |      8.00 | 0.7828 | 0.5981 |  0.6889 |    0.5284\n",
      "     4 |      0.21 | 0.8333 | 0.7143 |  0.8333 |    0.6250\n",
      "     5 |      4.59 | 0.7953 | 0.6528 |  0.7000 |    0.6117\n"
     ]
    }
   ],
   "source": [
    "grid = {\n",
    "    \"lr\": {\"type\": \"float\", \"low\": 5e-5, \"high\": 5e-2, \"log\": True},\n",
    "    \"hidden_dim\": {\"type\": \"categorical\", \"values\": [32, 64, 128, 256, 512]},\n",
    "    \"batch_size\": {\"type\": \"categorical\", \"values\": [64, 128, 256, 512]},\n",
    "    \"dropout\": {\"type\": \"float\", \"low\": 0.0, \"high\": 0.6},\n",
    "    \"num_trees\": {\"type\": \"categorical\", \"values\": [5, 10, 20, 50]},\n",
    "    \"depth\": {\"type\": \"categorical\", \"values\": [2, 3, 4, 5, 6]},\n",
    "    \"group_dro_eta\": {\"type\": \"float\", \"low\": 1e-4, \"high\": 1.0, \"log\": True},\n",
    "}\n",
    "\n",
    "model_type = \"node\"\n",
    "dataset = \"compas\"\n",
    "\n",
    "best_group_dro_model, best_config_groupdro, test_loader, valid_loader = generate_group_dro_optuna_runner(\n",
    "    grid, model_type, dataset, load_data, MODEL_CLASSES, METHODS, default_dir=\"experiments\", n_trials=30\n",
    ")\n",
    "\n",
    "print(\"\\n[Optuna Best Group-DRO 모델 설정]\")\n",
    "print(best_config_groupdro)\n",
    "\n",
    "print(\"\\n[Optuna Best Group-DRO 모델] 성능 요약\")\n",
    "v_prob, y_valid = get_probs_and_labels_from_loader(best_group_dro_model, valid_loader, device)\n",
    "threshold, _ = find_best_threshold_for_f1(v_prob, y_valid)\n",
    "print(f\"threshold 균형점 : {threshold:.4f}\")\n",
    "\n",
    "print(\"[BEST OVERALL F1 MODEL]\")\n",
    "evaluate_group_metrics(best_group_dro_model, test_loader, device, threshold)"
   ]
  },
  {
   "cell_type": "code",
   "execution_count": 1,
   "id": "e45051d7",
   "metadata": {},
   "outputs": [
    {
     "name": "stdout",
     "output_type": "stream",
     "text": [
      "\n",
      "[Optuna Best Group-DRO 모델 설정]\n"
     ]
    },
    {
     "ename": "NameError",
     "evalue": "name 'best_config_groupdro' is not defined",
     "output_type": "error",
     "traceback": [
      "\u001b[31m---------------------------------------------------------------------------\u001b[39m",
      "\u001b[31mNameError\u001b[39m                                 Traceback (most recent call last)",
      "\u001b[36mCell\u001b[39m\u001b[36m \u001b[39m\u001b[32mIn[1]\u001b[39m\u001b[32m, line 2\u001b[39m\n\u001b[32m      1\u001b[39m \u001b[38;5;28mprint\u001b[39m(\u001b[33m\"\u001b[39m\u001b[38;5;130;01m\\n\u001b[39;00m\u001b[33m[Optuna Best Group-DRO 모델 설정]\u001b[39m\u001b[33m\"\u001b[39m)\n\u001b[32m----> \u001b[39m\u001b[32m2\u001b[39m \u001b[38;5;28mprint\u001b[39m(\u001b[43mbest_config_groupdro\u001b[49m)\n\u001b[32m      4\u001b[39m \u001b[38;5;28mprint\u001b[39m(\u001b[33m\"\u001b[39m\u001b[38;5;130;01m\\n\u001b[39;00m\u001b[33m[Optuna Best Group-DRO 모델] 성능 요약\u001b[39m\u001b[33m\"\u001b[39m)\n\u001b[32m      5\u001b[39m v_prob, y_valid = get_probs_and_labels_from_loader(best_group_dro_model, valid_loader, device)\n",
      "\u001b[31mNameError\u001b[39m: name 'best_config_groupdro' is not defined"
     ]
    }
   ],
   "source": [
    "print(\"\\n[Optuna Best Group-DRO 모델 설정]\")\n",
    "print(best_config_groupdro)\n",
    "\n",
    "print(\"\\n[Optuna Best Group-DRO 모델] 성능 요약\")\n",
    "v_prob, y_valid = get_probs_and_labels_from_loader(best_group_dro_model, valid_loader, device)\n",
    "threshold, _ = find_best_threshold_for_f1(v_prob, y_valid)\n",
    "print(f\"threshold 균형점 : {threshold:.4f}\")\n",
    "\n",
    "print(\"[BEST OVERALL F1 MODEL]\")\n",
    "evaluate_group_metrics(best_group_dro_model, test_loader, device, threshold)"
   ]
  },
  {
   "cell_type": "code",
   "execution_count": null,
   "id": "17690d5c",
   "metadata": {},
   "outputs": [],
   "source": []
  }
 ],
 "metadata": {
  "kernelspec": {
   "display_name": "base",
   "language": "python",
   "name": "python3"
  },
  "language_info": {
   "codemirror_mode": {
    "name": "ipython",
    "version": 3
   },
   "file_extension": ".py",
   "mimetype": "text/x-python",
   "name": "python",
   "nbconvert_exporter": "python",
   "pygments_lexer": "ipython3",
   "version": "3.12.2"
  }
 },
 "nbformat": 4,
 "nbformat_minor": 5
}
