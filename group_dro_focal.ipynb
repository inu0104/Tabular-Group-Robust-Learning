{
 "cells": [
  {
   "cell_type": "code",
   "execution_count": 1,
   "id": "795a22e2",
   "metadata": {},
   "outputs": [],
   "source": [
    "import os\n",
    "import json\n",
    "import torch\n",
    "import numpy as np\n",
    "from copy import deepcopy\n",
    "from sklearn.metrics import roc_auc_score\n",
    "\n",
    "from method.group_dro import run_group_dro\n",
    "from method.group_test import run_group_test\n",
    "from method.group_dro_focal import run_group_dro_focal\n",
    "from models import node, tabnet, tabtrans\n",
    "\n",
    "import numpy as np\n",
    "import torch\n",
    "import json\n",
    "from utils.data_loader import load_data\n",
    "\n",
    "from sklearn.metrics import (\n",
    "    f1_score, recall_score, precision_score,\n",
    "    roc_auc_score, brier_score_loss\n",
    ")\n",
    "\n",
    "MODEL_CLASSES = {\n",
    "    'node': node.NODE,\n",
    "    'tabnet': tabnet.TabNet,\n",
    "    #'tabtrans' : tabtrans.TabTransformer\n",
    "}\n",
    "\n",
    "METHODS = {\n",
    "    'group-dro' : run_group_dro,\n",
    "    'group-test' : run_group_test,\n",
    "    'group-dro-focal' : run_group_dro_focal\n",
    "}\n",
    "\n",
    "device = torch.device(\"cuda\" if torch.cuda.is_available() else \"cpu\")"
   ]
  },
  {
   "cell_type": "code",
   "execution_count": null,
   "id": "f114dd16",
   "metadata": {},
   "outputs": [],
   "source": [
    "def load_default_config(model_type, dataset, default_dir=\"experiments\"):\n",
    "    path = os.path.join(default_dir, f\"{model_type}_{dataset}.json\")\n",
    "    with open(path, \"r\") as f:\n",
    "        return json.load(f), path\n",
    "\n",
    "def save_as_default(config, path):\n",
    "    with open(path, \"w\") as f:\n",
    "        json.dump(config, f, indent=2)\n",
    "\n",
    "def collect_predictions(model, dataloader, device):\n",
    "    model.eval()\n",
    "    all_preds = []\n",
    "    all_labels = []\n",
    "    all_groups = []\n",
    "\n",
    "    with torch.no_grad():\n",
    "        for batch in dataloader:\n",
    "            if model.__class__.__name__.lower() != \"tabtransformer\":\n",
    "                x, y, g, *_ = batch\n",
    "                x = x.to(device)\n",
    "                outputs = model(x).squeeze()\n",
    "            else:\n",
    "                x_cat, x_num, y, g, *_ = batch\n",
    "                x_cat = x_cat.to(device)\n",
    "                x_num = x_num.to(device)\n",
    "                outputs = model((x_cat, x_num)).squeeze()\n",
    "\n",
    "            preds = torch.sigmoid(outputs).cpu().numpy()\n",
    "\n",
    "            if preds.ndim == 0:\n",
    "                all_preds.extend([preds])\n",
    "            else:\n",
    "                all_preds.extend(preds)\n",
    "\n",
    "            all_labels.extend(y.numpy())\n",
    "            all_groups.extend(g.numpy())\n",
    "\n",
    "    return np.array(all_labels), np.array(all_preds), np.array(all_groups)\n",
    "\n",
    "def generate_group_dro_optuna_runner(grid, model_type, dataset, load_data, MODEL_CLASSES, METHODS,\n",
    "                                     default_dir=\"experiments\", n_trials=30):\n",
    "    import optuna\n",
    "\n",
    "    config, default_path = load_default_config(model_type, dataset)\n",
    "    device = torch.device(\"cuda\" if torch.cuda.is_available() else \"cpu\")\n",
    "    model_class = MODEL_CLASSES[model_type]\n",
    "\n",
    "    def to_optuna_space(grid):\n",
    "        space = {}\n",
    "        for k, v in grid.items():\n",
    "            if isinstance(v, list):\n",
    "                space[k] = {\"type\": \"categorical\", \"values\": v}\n",
    "            elif isinstance(v, dict) and \"low\" in v and \"high\" in v:\n",
    "                space[k] = v\n",
    "        return space\n",
    "\n",
    "    param_space = to_optuna_space(grid)\n",
    "\n",
    "    def optuna_objective(trial):\n",
    "        trial_config = deepcopy(config)\n",
    "        trial_config[\"method\"] = 'group-dro-focal'\n",
    "\n",
    "        for param_name, param_def in param_space.items():\n",
    "            if param_def[\"type\"] == \"categorical\":\n",
    "                suggested = trial.suggest_categorical(param_name, param_def[\"values\"])\n",
    "            elif param_def[\"type\"] == \"int\":\n",
    "                suggested = trial.suggest_int(param_name, param_def[\"low\"], param_def[\"high\"])\n",
    "            elif param_def[\"type\"] == \"float\":\n",
    "                suggested = trial.suggest_float(param_name, param_def[\"low\"], param_def[\"high\"],\n",
    "                                                 log=param_def.get(\"log\", False))\n",
    "            else:\n",
    "                raise ValueError(f\"Unknown param type: {param_def['type']}\")\n",
    "\n",
    "            if param_name in trial_config[\"model_params\"]:\n",
    "                trial_config[\"model_params\"][param_name] = suggested\n",
    "            elif param_name in trial_config[\"train_params\"]:\n",
    "                trial_config[\"train_params\"][param_name] = suggested\n",
    "\n",
    "        if \"group_dro_eta\" in param_space:\n",
    "            trial_config[\"train_params\"][\"group_dro_eta\"] = trial.suggest_float(\n",
    "                \"group_dro_eta\", param_space[\"group_dro_eta\"][\"low\"], param_space[\"group_dro_eta\"][\"high\"], log=True\n",
    "            )\n",
    "        if \"gamma\" in param_space:\n",
    "            trial_config[\"train_params\"][\"gamma\"] = trial.suggest_float(\n",
    "                \"gamma\", param_space[\"gamma\"][\"low\"], param_space[\"gamma\"][\"high\"]\n",
    "            )\n",
    "\n",
    "        train_loader, valid_loader, test_loader, train_df = load_data(trial_config)\n",
    "        model = model_class(**trial_config[\"model_params\"]).to(device)\n",
    "        method_fn = METHODS[trial_config[\"method\"]]\n",
    "        try:\n",
    "            model = method_fn(model, train_loader, valid_loader, test_loader, train_df,\n",
    "                               trial_config[\"train_params\"], device, dataset, trial_config[\"method\"])\n",
    "        except ValueError as e:\n",
    "            print(f\"Optuna Trial failed during method execution with ValueError: {e}\")\n",
    "            raise\n",
    "        except TypeError as e:\n",
    "            print(f\"Optuna Trial failed during method execution with TypeError: {e}\")\n",
    "            raise\n",
    "\n",
    "        y_true, y_prob, group_ids = collect_predictions(model, valid_loader, device)\n",
    "\n",
    "        try:\n",
    "            overall_auc = roc_auc_score(y_true, y_prob)\n",
    "        except ValueError:\n",
    "            overall_auc = 0.0\n",
    "\n",
    "        group_aucs = []\n",
    "        for g in np.unique(group_ids):\n",
    "            mask = group_ids == g\n",
    "            if np.sum(mask) > 1:\n",
    "                try:\n",
    "                    group_auc = roc_auc_score(y_true[mask], y_prob[mask])\n",
    "                    group_aucs.append(group_auc)\n",
    "                except ValueError:\n",
    "                    pass\n",
    "        worst_group_auc = min(group_aucs) if group_aucs else 0.0\n",
    "\n",
    "        trial.set_user_attr(\"config\", deepcopy(trial_config))\n",
    "        trial.set_user_attr(\"overall_auc\", overall_auc)\n",
    "        trial.set_user_attr(\"worst_group_auc\", worst_group_auc)\n",
    "\n",
    "        return worst_group_auc\n",
    "\n",
    "    study = optuna.create_study(direction=\"maximize\")\n",
    "    study.optimize(optuna_objective, n_trials=n_trials)\n",
    "\n",
    "    best_trial = study.best_trial\n",
    "    best_config = best_trial.user_attrs[\"config\"]\n",
    "    save_as_default(best_config, default_path.replace(\".json\", \"_optuna_best_groupdrofocal.json\"))\n",
    "\n",
    "    train_loader, valid_loader, test_loader, train_df = load_data(best_config)\n",
    "    model_class = MODEL_CLASSES[best_config[\"model_type\"]]\n",
    "    best_model = model_class(**best_config[\"model_params\"]).to(device)\n",
    "    method_fn = METHODS[best_config[\"method\"]]\n",
    "    best_group_dro_model = method_fn(best_model, train_loader, valid_loader, test_loader, train_df,\n",
    "                                      best_config[\"train_params\"], device, dataset, best_config[\"method\"])\n",
    "\n",
    "    return best_group_dro_model, best_config, test_loader, valid_loader\n",
    "\n",
    "def get_probs_and_labels_from_loader(model, loader, device):\n",
    "    model.eval()\n",
    "    probs, labels = [], []\n",
    "\n",
    "    is_tabtrans = model.__class__.__name__.lower() == \"tabtransformer\"\n",
    "\n",
    "    with torch.no_grad():\n",
    "        for batch in loader:\n",
    "            if is_tabtrans:\n",
    "                x_cat, x_num, y, *_ = batch\n",
    "                x_cat = x_cat.to(device)\n",
    "                x_num = x_num.to(device)\n",
    "                x = (x_cat, x_num)\n",
    "            else:\n",
    "                x, y, *_ = batch\n",
    "                x = x.to(device)\n",
    "\n",
    "            output = model(x)\n",
    "            \n",
    "            prob = torch.sigmoid(output).flatten().cpu().numpy()\n",
    "            \n",
    "            if prob.ndim == 0:\n",
    "                probs.extend([prob])\n",
    "            else:\n",
    "                probs.extend(prob)\n",
    "\n",
    "            if y.ndim == 0:\n",
    "                labels.extend([y.numpy()])\n",
    "            else:\n",
    "                labels.extend(y.numpy())\n",
    "\n",
    "    return np.array(probs), np.array(labels)\n",
    "\n",
    "def evaluate_group_metrics(model, test_loader, device, threshold):\n",
    "    model.eval()\n",
    "    model.to(device)\n",
    "\n",
    "    all_logits = []\n",
    "    all_preds = []\n",
    "    all_labels = []\n",
    "    all_groups = []\n",
    "\n",
    "    is_tabtrans = model.__class__.__name__.lower() == \"tabtransformer\"\n",
    "\n",
    "    with torch.no_grad():\n",
    "        for batch in test_loader:\n",
    "            if is_tabtrans:\n",
    "                x_cat, x_num, y, g, *_ = batch\n",
    "                x_cat = x_cat.to(device)\n",
    "                x_num = x_num.to(device)\n",
    "                x = (x_cat, x_num)\n",
    "            else:\n",
    "                x, y, g, *_ = batch\n",
    "                x = x.to(device)\n",
    "\n",
    "            outputs = model(x)  # raw logits\n",
    "            probs = torch.sigmoid(outputs).flatten().cpu().numpy()\n",
    "            preds = (probs > threshold).astype(int)\n",
    "\n",
    "            all_logits.append(probs)\n",
    "            all_preds.append(preds)\n",
    "            all_labels.append(y.numpy())\n",
    "            all_groups.append(g.numpy())\n",
    "\n",
    "    y_prob = np.concatenate(all_logits)\n",
    "    y_pred = np.concatenate(all_preds)\n",
    "    y_true = np.concatenate(all_labels)\n",
    "    group_ids = np.concatenate(all_groups)\n",
    "    total = len(y_true)\n",
    "\n",
    "    # 전체 metric\n",
    "    auc = roc_auc_score(y_true, y_prob)\n",
    "    f1 = f1_score(y_true, y_pred)\n",
    "    recall = recall_score(y_true, y_pred)\n",
    "    precision = precision_score(y_true, y_pred)\n",
    "    brier = brier_score_loss(y_true, y_prob)\n",
    "\n",
    "    print(f\"전체 AUC:     {auc:.4f}\")\n",
    "    print(f\"전체 F1-score: {f1:.4f}\")\n",
    "    print(f\"전체 Recall:   {recall:.4f}\")\n",
    "    print(f\"전체 Precision: {precision:.4f}\")\n",
    "    print(f\"전체 Brier Score: {brier:.4f}\")\n",
    "\n",
    "    # 그룹별 요약\n",
    "    print(\"\\n그룹별 성능 요약:\")\n",
    "    print(f\"{'Group':>6} | {'Ratio (%)':>9} | {'AUC':>6} | {'F1':>6} | {'Recall':>7} | {'Precision':>9}\")\n",
    "    print(\"-\" * 60)\n",
    "\n",
    "    for g in np.unique(group_ids):\n",
    "        idx = group_ids == g\n",
    "        group_size = np.sum(idx)\n",
    "        ratio = group_size / total * 100\n",
    "\n",
    "        y_true_g = y_true[idx]\n",
    "        y_pred_g = y_pred[idx]\n",
    "        y_prob_g = y_prob[idx]\n",
    "\n",
    "        f1_g = f1_score(y_true_g, y_pred_g, zero_division=0)\n",
    "        recall_g = recall_score(y_true_g, y_pred_g, zero_division=0)\n",
    "        precision_g = precision_score(y_true_g, y_pred_g, zero_division=0)\n",
    "\n",
    "        try:\n",
    "            auc_g = roc_auc_score(y_true_g, y_prob_g)\n",
    "        except ValueError:\n",
    "            auc_g = float('nan')\n",
    "\n",
    "        print(f\"{g:>6} | {ratio:9.2f} | {auc_g:6.4f} | {f1_g:6.4f} | {recall_g:7.4f} | {precision_g:9.4f}\")\n",
    "\n",
    "def find_best_threshold_for_f1(y_prob, y_true, num_thresholds=100):\n",
    "    thresholds = np.linspace(0.0, 1.0, num_thresholds)\n",
    "    best_f1 = 0.0\n",
    "    best_threshold = 0.5\n",
    "\n",
    "    for t in thresholds:\n",
    "        y_pred = (y_prob > t).astype(int)\n",
    "        f1 = f1_score(y_true, y_pred)\n",
    "        if f1 > best_f1:\n",
    "            best_f1 = f1\n",
    "            best_threshold = t\n",
    "\n",
    "    return best_threshold, best_f1\n",
    "\n",
    "def predict_with_threshold(model, x, threshold=0.5):\n",
    "    probs = model.predict_proba(x)[:, 1]\n",
    "    preds = (probs > threshold).astype(int)\n",
    "    return preds\n",
    "\n",
    "import logging\n",
    "import os\n",
    "\n",
    "def setup_logger(log_file=\"log.txt\"):\n",
    "    # 이전 핸들러 제거\n",
    "    for handler in logging.root.handlers[:]:\n",
    "        logging.root.removeHandler(handler)\n",
    "\n",
    "    logging.basicConfig(\n",
    "        level=logging.INFO,\n",
    "        format=\"%(message)s\",\n",
    "        handlers=[\n",
    "            logging.FileHandler(log_file, mode='w'),\n",
    "            logging.StreamHandler()  # 콘솔 출력도 유지\n",
    "        ]\n",
    "    )"
   ]
  },
  {
   "cell_type": "code",
   "execution_count": null,
   "id": "6e750e4b",
   "metadata": {},
   "outputs": [
    {
     "name": "stderr",
     "output_type": "stream",
     "text": [
      "/opt/conda/lib/python3.12/site-packages/tqdm/auto.py:21: TqdmWarning: IProgress not found. Please update jupyter and ipywidgets. See https://ipywidgets.readthedocs.io/en/stable/user_install.html\n",
      "  from .autonotebook import tqdm as notebook_tqdm\n",
      "[I 2025-04-23 04:03:44,187] A new study created in memory with name: no-name-65dd7a49-e18f-465e-a3df-65ce80e3d8fe\n"
     ]
    },
    {
     "name": "stdout",
     "output_type": "stream",
     "text": [
      "🔥 Running GroupDRO Method on cuda...\n"
     ]
    },
    {
     "name": "stderr",
     "output_type": "stream",
     "text": [
      "[I 2025-04-23 04:08:26,857] Trial 0 finished with value: 0.75 and parameters: {'lr': 0.0002023193058420545, 'dropout': 0.1335399072929882, 'group_dro_eta': 0.0022980339693153425, 'gamma': 3.9357577390211262}. Best is trial 0 with value: 0.75.\n"
     ]
    },
    {
     "name": "stdout",
     "output_type": "stream",
     "text": [
      "🔥 Running GroupDRO Method on cuda...\n"
     ]
    },
    {
     "name": "stderr",
     "output_type": "stream",
     "text": [
      "[I 2025-04-23 04:13:04,960] Trial 1 finished with value: 0.7184677848940203 and parameters: {'lr': 5.471743571196684e-05, 'dropout': 0.11030067016034806, 'group_dro_eta': 0.0013669896815474303, 'gamma': 0.8112643026771709}. Best is trial 0 with value: 0.75.\n"
     ]
    },
    {
     "name": "stdout",
     "output_type": "stream",
     "text": [
      "🔥 Running GroupDRO Method on cuda...\n"
     ]
    },
    {
     "name": "stderr",
     "output_type": "stream",
     "text": [
      "[I 2025-04-23 04:17:43,705] Trial 2 finished with value: 0.75 and parameters: {'lr': 0.003493948350749193, 'dropout': 0.5644180721629695, 'group_dro_eta': 0.007691746179081383, 'gamma': 2.253885459688668}. Best is trial 0 with value: 0.75.\n"
     ]
    },
    {
     "name": "stdout",
     "output_type": "stream",
     "text": [
      "🔥 Running GroupDRO Method on cuda...\n"
     ]
    },
    {
     "name": "stderr",
     "output_type": "stream",
     "text": [
      "[I 2025-04-23 04:22:13,428] Trial 3 finished with value: 0.7752039897757352 and parameters: {'lr': 0.0005360314164563458, 'dropout': 0.5914260451253025, 'group_dro_eta': 0.0005576478149393788, 'gamma': 3.7253418030064576}. Best is trial 3 with value: 0.7752039897757352.\n"
     ]
    },
    {
     "name": "stdout",
     "output_type": "stream",
     "text": [
      "🔥 Running GroupDRO Method on cuda...\n"
     ]
    },
    {
     "name": "stderr",
     "output_type": "stream",
     "text": [
      "[I 2025-04-23 04:26:44,180] Trial 4 finished with value: 0.7716733975033964 and parameters: {'lr': 0.0002015361230452119, 'dropout': 0.3802126138373412, 'group_dro_eta': 0.0004276352612141488, 'gamma': 4.128186547028964}. Best is trial 3 with value: 0.7752039897757352.\n"
     ]
    },
    {
     "name": "stdout",
     "output_type": "stream",
     "text": [
      "🔥 Running GroupDRO Method on cuda...\n"
     ]
    },
    {
     "name": "stderr",
     "output_type": "stream",
     "text": [
      "[I 2025-04-23 04:31:26,648] Trial 5 finished with value: 0.7142857142857143 and parameters: {'lr': 0.001107083894437871, 'dropout': 0.1762367812563273, 'group_dro_eta': 0.519150690230916, 'gamma': 2.337118180779862}. Best is trial 3 with value: 0.7752039897757352.\n"
     ]
    },
    {
     "name": "stdout",
     "output_type": "stream",
     "text": [
      "🔥 Running GroupDRO Method on cuda...\n"
     ]
    },
    {
     "name": "stderr",
     "output_type": "stream",
     "text": [
      "[I 2025-04-23 04:36:16,694] Trial 6 finished with value: 0.6071428571428571 and parameters: {'lr': 0.0021611281529741663, 'dropout': 0.33122156155376153, 'group_dro_eta': 0.0003924459898764599, 'gamma': 1.280218624630705}. Best is trial 3 with value: 0.7752039897757352.\n"
     ]
    },
    {
     "name": "stdout",
     "output_type": "stream",
     "text": [
      "🔥 Running GroupDRO Method on cuda...\n"
     ]
    },
    {
     "name": "stderr",
     "output_type": "stream",
     "text": [
      "[I 2025-04-23 04:41:02,273] Trial 7 finished with value: 0.6785714285714286 and parameters: {'lr': 0.0005109405221234593, 'dropout': 0.41556773400407787, 'group_dro_eta': 0.00021409938406979285, 'gamma': 3.8194885640468756}. Best is trial 3 with value: 0.7752039897757352.\n"
     ]
    },
    {
     "name": "stdout",
     "output_type": "stream",
     "text": [
      "🔥 Running GroupDRO Method on cuda...\n"
     ]
    },
    {
     "name": "stderr",
     "output_type": "stream",
     "text": [
      "[I 2025-04-23 04:45:33,127] Trial 8 finished with value: 0.7142857142857143 and parameters: {'lr': 0.00013534320882105602, 'dropout': 0.4129238226747064, 'group_dro_eta': 0.008391672817975475, 'gamma': 0.9404861687539267}. Best is trial 3 with value: 0.7752039897757352.\n"
     ]
    },
    {
     "name": "stdout",
     "output_type": "stream",
     "text": [
      "🔥 Running GroupDRO Method on cuda...\n"
     ]
    },
    {
     "name": "stderr",
     "output_type": "stream",
     "text": [
      "[I 2025-04-23 04:50:23,360] Trial 9 finished with value: 0.7766461644554009 and parameters: {'lr': 0.00046151077843629886, 'dropout': 0.18790338025921602, 'group_dro_eta': 0.030896889158341035, 'gamma': 1.752928352264792}. Best is trial 9 with value: 0.7766461644554009.\n"
     ]
    },
    {
     "name": "stdout",
     "output_type": "stream",
     "text": [
      "🔥 Running GroupDRO Method on cuda...\n"
     ]
    },
    {
     "name": "stderr",
     "output_type": "stream",
     "text": [
      "[I 2025-04-23 04:55:23,110] Trial 10 finished with value: 0.75 and parameters: {'lr': 0.02959430418275461, 'dropout': 0.0035077203602027762, 'group_dro_eta': 0.18138627708277455, 'gamma': 1.9032705854307748}. Best is trial 9 with value: 0.7766461644554009.\n"
     ]
    },
    {
     "name": "stdout",
     "output_type": "stream",
     "text": [
      "🔥 Running GroupDRO Method on cuda...\n"
     ]
    },
    {
     "name": "stderr",
     "output_type": "stream",
     "text": [
      "[I 2025-04-23 05:00:18,528] Trial 11 finished with value: 0.769567430183054 and parameters: {'lr': 0.006524770803657266, 'dropout': 0.57573683979985, 'group_dro_eta': 0.049232151610464195, 'gamma': 4.990763663690373}. Best is trial 9 with value: 0.7766461644554009.\n"
     ]
    },
    {
     "name": "stdout",
     "output_type": "stream",
     "text": [
      "🔥 Running GroupDRO Method on cuda...\n"
     ]
    },
    {
     "name": "stderr",
     "output_type": "stream",
     "text": [
      "[I 2025-04-23 05:05:11,606] Trial 12 finished with value: 0.7747745376162928 and parameters: {'lr': 0.000728466871569426, 'dropout': 0.25009278062716206, 'group_dro_eta': 0.03551089963198225, 'gamma': 3.0523930497119047}. Best is trial 9 with value: 0.7766461644554009.\n"
     ]
    },
    {
     "name": "stdout",
     "output_type": "stream",
     "text": [
      "🔥 Running GroupDRO Method on cuda...\n"
     ]
    },
    {
     "name": "stderr",
     "output_type": "stream",
     "text": [
      "[I 2025-04-23 05:10:05,774] Trial 13 finished with value: 0.7739522812581296 and parameters: {'lr': 0.0004919062281324476, 'dropout': 0.4835397599051927, 'group_dro_eta': 0.03328284942058121, 'gamma': 3.2799288859650773}. Best is trial 9 with value: 0.7766461644554009.\n"
     ]
    },
    {
     "name": "stdout",
     "output_type": "stream",
     "text": [
      "🔥 Running GroupDRO Method on cuda...\n"
     ]
    },
    {
     "name": "stderr",
     "output_type": "stream",
     "text": [
      "[I 2025-04-23 05:15:01,155] Trial 14 finished with value: 0.6785714285714286 and parameters: {'lr': 0.006607468890422558, 'dropout': 0.2490091389300607, 'group_dro_eta': 0.002083045677526339, 'gamma': 1.550970416815159}. Best is trial 9 with value: 0.7766461644554009.\n"
     ]
    },
    {
     "name": "stdout",
     "output_type": "stream",
     "text": [
      "🔥 Running GroupDRO Method on cuda...\n"
     ]
    },
    {
     "name": "stderr",
     "output_type": "stream",
     "text": [
      "[I 2025-04-23 05:19:51,295] Trial 15 finished with value: 0.712882842147426 and parameters: {'lr': 5.173998823245207e-05, 'dropout': 0.022328493954502232, 'group_dro_eta': 0.12711703187007933, 'gamma': 4.928563202073606}. Best is trial 9 with value: 0.7766461644554009.\n"
     ]
    },
    {
     "name": "stdout",
     "output_type": "stream",
     "text": [
      "🔥 Running GroupDRO Method on cuda...\n"
     ]
    },
    {
     "name": "stderr",
     "output_type": "stream",
     "text": [
      "[I 2025-04-23 05:24:42,878] Trial 16 finished with value: 0.7752039897757352 and parameters: {'lr': 0.00030133745866941174, 'dropout': 0.4956743662113922, 'group_dro_eta': 0.014140321730536812, 'gamma': 2.707666757840456}. Best is trial 9 with value: 0.7766461644554009.\n"
     ]
    },
    {
     "name": "stdout",
     "output_type": "stream",
     "text": [
      "🔥 Running GroupDRO Method on cuda...\n"
     ]
    },
    {
     "name": "stderr",
     "output_type": "stream",
     "text": [
      "[I 2025-04-23 05:29:30,069] Trial 17 finished with value: 0.7142857142857143 and parameters: {'lr': 0.0018025602748350967, 'dropout': 0.2261793993060413, 'group_dro_eta': 0.6959477966151384, 'gamma': 3.519768496834458}. Best is trial 9 with value: 0.7766461644554009.\n"
     ]
    },
    {
     "name": "stdout",
     "output_type": "stream",
     "text": [
      "🔥 Running GroupDRO Method on cuda...\n"
     ]
    },
    {
     "name": "stderr",
     "output_type": "stream",
     "text": [
      "[I 2025-04-23 05:34:24,553] Trial 18 finished with value: 0.760686751813816 and parameters: {'lr': 0.03827826427568225, 'dropout': 0.31859173244938704, 'group_dro_eta': 0.000907505651889065, 'gamma': 2.660356335371092}. Best is trial 9 with value: 0.7766461644554009.\n"
     ]
    },
    {
     "name": "stdout",
     "output_type": "stream",
     "text": [
      "🔥 Running GroupDRO Method on cuda...\n"
     ]
    },
    {
     "name": "stderr",
     "output_type": "stream",
     "text": [
      "[I 2025-04-23 05:39:17,606] Trial 19 finished with value: 0.7142857142857143 and parameters: {'lr': 0.00012180935934072672, 'dropout': 0.1145005221778721, 'group_dro_eta': 0.00010855229066248647, 'gamma': 4.350575177234067}. Best is trial 9 with value: 0.7766461644554009.\n"
     ]
    },
    {
     "name": "stdout",
     "output_type": "stream",
     "text": [
      "🔥 Running GroupDRO Method on cuda...\n"
     ]
    },
    {
     "name": "stderr",
     "output_type": "stream",
     "text": [
      "[I 2025-04-23 05:44:06,816] Trial 20 finished with value: 0.7790318950815339 and parameters: {'lr': 0.001009607067434045, 'dropout': 0.485756501781085, 'group_dro_eta': 0.014520102298759453, 'gamma': 1.8654728024300191}. Best is trial 20 with value: 0.7790318950815339.\n"
     ]
    },
    {
     "name": "stdout",
     "output_type": "stream",
     "text": [
      "🔥 Running GroupDRO Method on cuda...\n"
     ]
    },
    {
     "name": "stderr",
     "output_type": "stream",
     "text": [
      "[I 2025-04-23 05:48:44,349] Trial 21 finished with value: 0.7679363378467103 and parameters: {'lr': 0.0007749916682089353, 'dropout': 0.5070993039686049, 'group_dro_eta': 0.004998043115358829, 'gamma': 1.7501904397342378}. Best is trial 20 with value: 0.7790318950815339.\n"
     ]
    },
    {
     "name": "stdout",
     "output_type": "stream",
     "text": [
      "🔥 Running GroupDRO Method on cuda...\n"
     ]
    },
    {
     "name": "stderr",
     "output_type": "stream",
     "text": [
      "[I 2025-04-23 05:53:31,232] Trial 22 finished with value: 0.5 and parameters: {'lr': 0.0003500780755183821, 'dropout': 0.5882363171849518, 'group_dro_eta': 0.01815062869615154, 'gamma': 2.101148724023526}. Best is trial 20 with value: 0.7790318950815339.\n"
     ]
    },
    {
     "name": "stdout",
     "output_type": "stream",
     "text": [
      "🔥 Running GroupDRO Method on cuda...\n"
     ]
    },
    {
     "name": "stderr",
     "output_type": "stream",
     "text": [
      "[I 2025-04-23 05:58:19,476] Trial 23 finished with value: 0.75 and parameters: {'lr': 0.0011931282863755534, 'dropout': 0.5158308062205791, 'group_dro_eta': 0.0937403296862684, 'gamma': 0.51310947919051}. Best is trial 20 with value: 0.7790318950815339.\n"
     ]
    },
    {
     "name": "stdout",
     "output_type": "stream",
     "text": [
      "🔥 Running GroupDRO Method on cuda...\n"
     ]
    },
    {
     "name": "stderr",
     "output_type": "stream",
     "text": [
      "[I 2025-04-23 06:03:08,182] Trial 24 finished with value: 0.75 and parameters: {'lr': 0.001817873783750137, 'dropout': 0.47027594037725995, 'group_dro_eta': 0.003927009638107821, 'gamma': 1.4396892210576837}. Best is trial 20 with value: 0.7790318950815339.\n"
     ]
    },
    {
     "name": "stdout",
     "output_type": "stream",
     "text": [
      "🔥 Running GroupDRO Method on cuda...\n"
     ]
    },
    {
     "name": "stderr",
     "output_type": "stream",
     "text": [
      "[I 2025-04-23 06:07:55,675] Trial 25 finished with value: 0.75 and parameters: {'lr': 0.004918802256821143, 'dropout': 0.5412458276067147, 'group_dro_eta': 0.019845295579257224, 'gamma': 2.49693880282903}. Best is trial 20 with value: 0.7790318950815339.\n"
     ]
    },
    {
     "name": "stdout",
     "output_type": "stream",
     "text": [
      "🔥 Running GroupDRO Method on cuda...\n"
     ]
    },
    {
     "name": "stderr",
     "output_type": "stream",
     "text": [
      "[I 2025-04-23 06:12:41,424] Trial 26 finished with value: 0.7593498755001673 and parameters: {'lr': 0.012497909214371767, 'dropout': 0.5969473104060409, 'group_dro_eta': 0.32413536016164846, 'gamma': 2.9571098547277903}. Best is trial 20 with value: 0.7790318950815339.\n"
     ]
    },
    {
     "name": "stdout",
     "output_type": "stream",
     "text": [
      "🔥 Running GroupDRO Method on cuda...\n"
     ]
    },
    {
     "name": "stderr",
     "output_type": "stream",
     "text": [
      "[I 2025-04-23 06:17:28,774] Trial 27 finished with value: 0.7142857142857143 and parameters: {'lr': 0.0006816136832197541, 'dropout': 0.45544825466078803, 'group_dro_eta': 0.0716246412209951, 'gamma': 1.1545968718368682}. Best is trial 20 with value: 0.7790318950815339.\n"
     ]
    },
    {
     "name": "stdout",
     "output_type": "stream",
     "text": [
      "🔥 Running GroupDRO Method on cuda...\n"
     ]
    },
    {
     "name": "stderr",
     "output_type": "stream",
     "text": [
      "[I 2025-04-23 06:22:17,643] Trial 28 finished with value: 0.6071428571428571 and parameters: {'lr': 0.0027015717150735198, 'dropout': 0.3808107597178971, 'group_dro_eta': 0.005256050098417118, 'gamma': 1.9013534075848488}. Best is trial 20 with value: 0.7790318950815339.\n"
     ]
    },
    {
     "name": "stdout",
     "output_type": "stream",
     "text": [
      "🔥 Running GroupDRO Method on cuda...\n"
     ]
    },
    {
     "name": "stderr",
     "output_type": "stream",
     "text": [
      "[I 2025-04-23 06:27:13,209] Trial 29 finished with value: 0.7705367945525645 and parameters: {'lr': 0.0003202904411882953, 'dropout': 0.17390656098556764, 'group_dro_eta': 0.0028554217530128716, 'gamma': 3.611350575475785}. Best is trial 20 with value: 0.7790318950815339.\n"
     ]
    },
    {
     "name": "stdout",
     "output_type": "stream",
     "text": [
      "🔥 Running GroupDRO Method on cuda...\n",
      "\n",
      "[Optuna Best Group-DRO-FOCAL 모델 설정]\n",
      "{'dataset': 'compas', 'model_type': 'node', 'method': 'group-dro-focal', 'model_params': {'input_dim': 34, 'hidden_dim': 64, 'num_trees': 7, 'depth': 2, 'num_classes': 1}, 'train_params': {'epochs': 30, 'lr': 0.001009607067434045, 'group_dro_eta': 0.014520102298759453, 'gamma': 1.8654728024300191}}\n",
      "\n",
      "[Optuna Best Group-DRO-FOCAL 모델] 성능 요약\n",
      "threshold 균형점 : 0.4545\n",
      "[BEST OVERALL F1 MODEL]\n",
      "전체 AUC:     0.7807\n",
      "전체 F1-score: 0.7046\n",
      "전체 Recall:   0.7952\n",
      "전체 Precision: 0.6324\n",
      "전체 Brier Score: 0.1991\n",
      "\n",
      "그룹별 성능 요약:\n",
      " Group | Ratio (%) |    AUC |     F1 |  Recall | Precision\n",
      "------------------------------------------------------------\n",
      "     0 |     53.53 | 0.7624 | 0.7329 |  0.8460 |    0.6465\n",
      "     1 |      0.44 | 0.9750 | 0.7143 |  0.6250 |    0.8333\n",
      "     2 |     33.23 | 0.7739 | 0.6683 |  0.7263 |    0.6188\n",
      "     3 |      8.00 | 0.7790 | 0.6026 |  0.6741 |    0.5449\n",
      "     4 |      0.21 | 0.9000 | 0.7500 |  1.0000 |    0.6000\n",
      "     5 |      4.59 | 0.7888 | 0.6528 |  0.7000 |    0.6117\n"
     ]
    }
   ],
   "source": [
    "setup_logger(\"log.txt\")  # 로그 파일 경로는 필요시 변경 가능\n",
    "\n",
    "\n",
    "grid = {\n",
    "    \"lr\": {\"type\": \"float\", \"low\": 5e-5, \"high\": 5e-2, \"log\": True},\n",
    "    \"hidden_dim\": {\"type\": \"categorical\", \"values\": [32, 64, 128, 256, 512]},\n",
    "    \"batch_size\": {\"type\": \"categorical\", \"values\": [64, 128, 256, 512]},\n",
    "    \"dropout\": {\"type\": \"float\", \"low\": 0.0, \"high\": 0.6},\n",
    "    \"num_trees\": {\"type\": \"categorical\", \"values\": [5, 10, 20, 50]},\n",
    "    \"depth\": {\"type\": \"categorical\", \"values\": [2, 3, 4, 5, 6]},\n",
    "    \"group_dro_eta\": {\"type\": \"float\", \"low\": 1e-4, \"high\": 1.0, \"log\": True},\n",
    "    \"gamma\": {\"type\": \"float\", \"low\": 0.5, \"high\": 5.0}  # focal loss용 gamma\n",
    "}\n",
    "\n",
    "model_type = \"node\"\n",
    "dataset = \"compas\"\n",
    "\n",
    "best_group_dro_model, best_config_groupdro, test_loader, valid_loader = generate_group_dro_optuna_runner(\n",
    "    grid, model_type, dataset, load_data, MODEL_CLASSES, METHODS, default_dir=\"experiments\", n_trials=30\n",
    ")\n",
    "\n",
    "print(\"\\n[Optuna Best Group-DRO-FOCAL 모델 설정]\")\n",
    "print(best_config_groupdro)\n",
    "\n",
    "print(\"\\n[Optuna Best Group-DRO-FOCAL 모델] 성능 요약\")\n",
    "v_prob, y_valid = get_probs_and_labels_from_loader(best_group_dro_model, valid_loader, device)\n",
    "threshold, _ = find_best_threshold_for_f1(v_prob, y_valid)\n",
    "print(f\"threshold 균형점 : {threshold:.4f}\")\n",
    "\n",
    "print(\"[BEST OVERALL F1 MODEL]\")\n",
    "evaluate_group_metrics(best_group_dro_model, test_loader, device, threshold)\n",
    "\n",
    "save_path = os.path.join(\"experiments\", f\"{dataset}_{model_type}_best_groupdro.pt\")\n",
    "torch.save(best_group_dro_model.state_dict(), save_path)\n",
    "print(f\"[모델 저장 완료] 경로: {save_path}\")"
   ]
  },
  {
   "cell_type": "code",
   "execution_count": null,
   "id": "e934b660",
   "metadata": {},
   "outputs": [],
   "source": [
    "def find_groupwise_thresholds_from_loader(model, valid_loader, device):\n",
    "    model.eval()\n",
    "    model.to(device)\n",
    "\n",
    "    all_probs = []\n",
    "    all_labels = []\n",
    "    all_groups = []\n",
    "\n",
    "    is_tabtrans = model.__class__.__name__.lower() == \"tabtransformer\"\n",
    "\n",
    "    with torch.no_grad():\n",
    "        for batch in valid_loader:\n",
    "            if is_tabtrans:\n",
    "                x_cat, x_num, y, g, *_ = batch\n",
    "                x = (x_cat.to(device), x_num.to(device))\n",
    "            else:\n",
    "                x, y, g, *_ = batch\n",
    "                x = x.to(device)\n",
    "\n",
    "            logits = model(x)\n",
    "            probs = torch.sigmoid(logits).flatten().cpu().numpy()\n",
    "            all_probs.append(probs)\n",
    "            all_labels.append(y.numpy())\n",
    "            all_groups.append(g.numpy())\n",
    "\n",
    "    # concat all data\n",
    "    y_prob = np.concatenate(all_probs)\n",
    "    y_true = np.concatenate(all_labels)\n",
    "    group_ids = np.concatenate(all_groups)\n",
    "\n",
    "    # calculate per-group threshold\n",
    "    thresholds_by_group = {}\n",
    "    for g in np.unique(group_ids):\n",
    "        idx = group_ids == g\n",
    "        best_t, _ = find_best_threshold_for_f1(y_prob[idx], y_true[idx])\n",
    "        thresholds_by_group[g] = best_t\n",
    "\n",
    "    return thresholds_by_group\n",
    "\n",
    "import logging\n",
    "\n",
    "def evaluate_group_metrics_per_threshold(model, test_loader, device, thresholds_by_group):\n",
    "    model.eval()\n",
    "    model.to(device)\n",
    "\n",
    "    all_logits, all_labels, all_groups = [], [], []\n",
    "    is_tabtrans = model.__class__.__name__.lower() == \"tabtransformer\"\n",
    "\n",
    "    with torch.no_grad():\n",
    "        for batch in test_loader:\n",
    "            if is_tabtrans:\n",
    "                x_cat, x_num, y, g, *_ = batch\n",
    "                x_cat = x_cat.to(device)\n",
    "                x_num = x_num.to(device)\n",
    "                x = (x_cat, x_num)\n",
    "            else:\n",
    "                x, y, g, *_ = batch\n",
    "                x = x.to(device)\n",
    "\n",
    "            probs = torch.sigmoid(model(x)).flatten().cpu().numpy()\n",
    "            all_logits.append(probs)\n",
    "            all_labels.append(y.numpy())\n",
    "            all_groups.append(g.numpy())\n",
    "\n",
    "    y_prob = np.concatenate(all_logits)\n",
    "    y_true = np.concatenate(all_labels)\n",
    "    group_ids = np.concatenate(all_groups)\n",
    "\n",
    "    logging.info(\"\\n그룹별 성능 (개별 threshold):\")\n",
    "    logging.info(f\"{'Group':>6} | {'Thresh.':>7} | {'AUC':>6} | {'F1':>6} | {'Recall':>7} | {'Precision':>9}\")\n",
    "    logging.info(\"-\" * 60)\n",
    "\n",
    "    for g in np.unique(group_ids):\n",
    "        idx = group_ids == g\n",
    "        t = thresholds_by_group[g]\n",
    "        y_pred = (y_prob[idx] > t).astype(int)\n",
    "\n",
    "        try:\n",
    "            auc_g = roc_auc_score(y_true[idx], y_prob[idx])\n",
    "        except ValueError:\n",
    "            auc_g = float('nan')\n",
    "\n",
    "        f1_g = f1_score(y_true[idx], y_pred, zero_division=0)\n",
    "        recall_g = recall_score(y_true[idx], y_pred, zero_division=0)\n",
    "        precision_g = precision_score(y_true[idx], y_pred, zero_division=0)\n",
    "\n",
    "        logging.info(f\"{g:>6} | {t:7.4f} | {auc_g:6.4f} | {f1_g:6.4f} | {recall_g:7.4f} | {precision_g:9.4f}\")\n"
   ]
  },
  {
   "cell_type": "code",
   "execution_count": 5,
   "id": "e0884929",
   "metadata": {},
   "outputs": [
    {
     "name": "stdout",
     "output_type": "stream",
     "text": [
      "[Optuna Best Group-DRO-FOCAL 모델] 성능 요약\n",
      "\n",
      "그룹별 성능 (개별 threshold):\n",
      " Group | Thresh. |    AUC |     F1 |  Recall | Precision\n",
      "------------------------------------------------------------\n",
      "     0 |  0.4444 | 0.7624 | 0.7454 |  0.8834 |    0.6447\n",
      "     1 |  0.3838 | 0.9750 | 0.7273 |  1.0000 |    0.5714\n",
      "     2 |  0.4646 | 0.7739 | 0.6662 |  0.6974 |    0.6378\n",
      "     3 |  0.5152 | 0.7790 | 0.6215 |  0.5778 |    0.6724\n",
      "     4 |  0.4242 | 0.9000 | 0.7500 |  1.0000 |    0.6000\n",
      "     5 |  0.4242 | 0.7888 | 0.6306 |  0.7778 |    0.5303\n"
     ]
    }
   ],
   "source": [
    "threshold = find_groupwise_thresholds_from_loader(best_group_dro_model, valid_loader,device)\n",
    "\n",
    "print(\"[Optuna Best Group-DRO-FOCAL 모델] 성능 요약\")\n",
    "evaluate_group_metrics_per_threshold(best_group_dro_model, test_loader, device, threshold)"
   ]
  },
  {
   "cell_type": "code",
   "execution_count": null,
   "id": "51ff9104",
   "metadata": {},
   "outputs": [],
   "source": []
  }
 ],
 "metadata": {
  "kernelspec": {
   "display_name": "base",
   "language": "python",
   "name": "python3"
  },
  "language_info": {
   "codemirror_mode": {
    "name": "ipython",
    "version": 3
   },
   "file_extension": ".py",
   "mimetype": "text/x-python",
   "name": "python",
   "nbconvert_exporter": "python",
   "pygments_lexer": "ipython3",
   "version": "3.12.2"
  }
 },
 "nbformat": 4,
 "nbformat_minor": 5
}
